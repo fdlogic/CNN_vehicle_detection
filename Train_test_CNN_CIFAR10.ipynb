{
 "cells": [
  {
   "cell_type": "code",
   "execution_count": 1,
   "id": "0a58644f",
   "metadata": {},
   "outputs": [],
   "source": [
    "#***************************************************************\n",
    "#This code ys based on the next example:\n",
    "#https://www.tensorflow.org/tutorials/images/cnn\n",
    "#***************************************************************"
   ]
  },
  {
   "cell_type": "code",
   "execution_count": 3,
   "id": "aa227a8a",
   "metadata": {},
   "outputs": [],
   "source": [
    "import cv2\n",
    "import numpy as np\n",
    "import matplotlib.pyplot as plt\n",
    "import tensorflow as tf\n",
    "from tensorflow.keras import datasets, layers, models"
   ]
  },
  {
   "cell_type": "markdown",
   "id": "e3a34f9a",
   "metadata": {},
   "source": [
    "### Functions"
   ]
  },
  {
   "cell_type": "code",
   "execution_count": 4,
   "id": "c613659a",
   "metadata": {},
   "outputs": [],
   "source": [
    "def download_split_cifar_10():\n",
    "    \"\"\"\n",
    "    This function download the CIFAR 10.\n",
    "    CIFAR 10 contain 60.000 images in colour, separated in 10 clases.\n",
    "    50.000 images are for training and 10.000 are separated for test.\n",
    "\n",
    "    Arguments: nothing\n",
    "    Return: train_images, train_labels, test_images, test_labels \n",
    "    \"\"\"\n",
    "    #Download CIFAR and separate in training and test data    \n",
    "    (train_images, train_labels), (test_images, test_labels) = datasets.cifar10.load_data()\n",
    "\n",
    "    # Normalize pixel values to be between 0 and 1\n",
    "    train_images, test_images = train_images / 255.0, test_images / 255.0\n",
    "\n",
    "\n",
    "    return train_images, train_labels, test_images, test_labels "
   ]
  },
  {
   "cell_type": "code",
   "execution_count": 5,
   "id": "2428743a",
   "metadata": {},
   "outputs": [],
   "source": [
    "def convolution_pooling(channels_first_layer, kernel_size, max_pooling_size, channels_other_layer):\n",
    "    \"\"\"\n",
    "    This function procces the convolution and th pooling using maxpooling.\n",
    "\n",
    "    Args: Channels\n",
    "\n",
    "    Return: model\n",
    "    \n",
    "    \"\"\"\n",
    "\n",
    "    #Sequential model\n",
    "    model = models.Sequential()\n",
    "    \n",
    "    #Add layers.\n",
    "    #For Conv2d define the channel_layer, kernel_size, activation function and input shape\n",
    "    #For Max Pooling define the dimensions\n",
    "    model.add(layers.Conv2D(channels_first_layer, (kernel_size, kernel_size), activation='relu', input_shape=(32, 32, 3)))\n",
    "    model.add(layers.MaxPooling2D((max_pooling_size, max_pooling_size)))\n",
    "    model.add(layers.Conv2D(channels_other_layer, (kernel_size, kernel_size), activation='relu'))\n",
    "    model.add(layers.MaxPooling2D((max_pooling_size, max_pooling_size)))\n",
    "    model.add(layers.Conv2D(channels_other_layer, (kernel_size, kernel_size), activation='relu'))\n",
    "\n",
    "    return model"
   ]
  },
  {
   "cell_type": "code",
   "execution_count": 6,
   "id": "6d87bb71",
   "metadata": {},
   "outputs": [],
   "source": [
    "def mlp(model, channels_last_layer, output_layer):\n",
    "    \"\"\"\n",
    "    This function add a flatten and process the image after the convolution\n",
    "\n",
    "    Args: model, channels_last_layer, output_layer\n",
    "    Return: model with the MLP added\n",
    "    \"\"\"\n",
    "    #The output layer is the number of th output to be classified\n",
    "    model.add(layers.Flatten())\n",
    "    model.add(layers.Dense(channels_last_layer, activation='relu'))\n",
    "    model.add(layers.Dense(output_layer))\n",
    "\n",
    "    return model"
   ]
  },
  {
   "cell_type": "code",
   "execution_count": 7,
   "id": "c9fe49e8",
   "metadata": {},
   "outputs": [],
   "source": [
    "def compile(model):\n",
    "    \"\"\"\n",
    "    Compile the model\n",
    "\n",
    "    Args: model with the CNN and MLP\n",
    "    Return: model compiled with the optimizer, loss and metrics\n",
    "\n",
    "    \"\"\"\n",
    "\n",
    "    model.compile(optimizer='adam', \n",
    "                loss=tf.keras.losses.SparseCategoricalCrossentropy(from_logits=True),\n",
    "                metrics=['accuracy'])\n",
    "\n",
    "    return model"
   ]
  },
  {
   "cell_type": "code",
   "execution_count": 8,
   "id": "53761aaa",
   "metadata": {},
   "outputs": [],
   "source": [
    "def fit_model(model, train_images, train_labels, test_images, test_labels, epochs):\n",
    "    \"\"\"\n",
    "    Fit the model\n",
    "\n",
    "    Args: model compiled\n",
    "    Return: model fitted\n",
    "    \"\"\"\n",
    "\n",
    "    model_fitted = model.fit(train_images, train_labels, epochs=epochs, \n",
    "                    validation_data=(test_images, test_labels))\n",
    "\n",
    "    \n",
    "    return model_fitted"
   ]
  },
  {
   "cell_type": "code",
   "execution_count": 9,
   "id": "107e2478",
   "metadata": {},
   "outputs": [],
   "source": [
    "def evaluate_model(model_compiled, model_fitted, test_images, test_labels):\n",
    "    \"\"\"\n",
    "    This function evaluate the model\n",
    "\n",
    "    Args: model_fitted\n",
    "    Plot the accuracy\n",
    "    \"\"\"\n",
    "\n",
    "    plt.plot(model_fitted.history['accuracy'], label='accuracy')\n",
    "    plt.xlabel('Epoch')\n",
    "    plt.ylabel('Accuracy')\n",
    "    plt.ylim([0.5, 1])\n",
    "    plt.legend(loc='lower right')\n",
    "    plt.grid()\n",
    "    plt.show()\n",
    "\n",
    "    test_loss, test_acc = model_compiled.evaluate(test_images,  test_labels, verbose=2)"
   ]
  },
  {
   "cell_type": "code",
   "execution_count": 10,
   "id": "b9b40794",
   "metadata": {},
   "outputs": [],
   "source": [
    "def predict_image(image, image_dimension, image_channels, compile_model):\n",
    "    \"\"\"\n",
    "    This function take a picture and predict the class. \n",
    "\n",
    "    Args: image\n",
    "    Return: class of the image\n",
    "    \"\"\"\n",
    "\n",
    "    read_image = cv2.imread(image)\n",
    "    resize_image = cv2.resize(read_image,(image_dimension,image_dimension))\n",
    "    reshape_image = np.reshape(resize_image,[1,image_dimension,image_dimension,image_channels])\n",
    "\n",
    "    #Generate predictions for samples.\n",
    "    #Have in mind that Softmax computes \n",
    "    #the probability that the input belongs to a particular class, for each class.\n",
    "    predictions = compile_model.predict(reshape_image)\n",
    "\n",
    "    #Take the max value generated by predictions. This is the class predicted.\n",
    "    classes = np.argmax(predictions, axis = 1)\n",
    "\n",
    "    class_names = ['airplane', 'automobile', 'bird', 'cat', 'deer',\n",
    "               'dog', 'frog', 'horse', 'ship', 'truck']\n",
    "    \n",
    "    class_image = class_names[int(classes)]\n",
    "  \n",
    "    return class_image  "
   ]
  },
  {
   "cell_type": "code",
   "execution_count": 11,
   "id": "412b2d1b",
   "metadata": {},
   "outputs": [],
   "source": [
    "train_images, train_labels, test_images, test_labels = download_split_cifar_10()"
   ]
  },
  {
   "cell_type": "code",
   "execution_count": 12,
   "id": "6d59a208",
   "metadata": {},
   "outputs": [],
   "source": [
    "#Dimension for an image\n",
    "#For this case, 32x32x3\n",
    "width, large, channels = train_images[0].shape"
   ]
  },
  {
   "cell_type": "code",
   "execution_count": 14,
   "id": "2c2b6bfd",
   "metadata": {},
   "outputs": [],
   "source": [
    "#Channels for the convolution result\n",
    "channels_first_layer = 32\n",
    "channels_other_layer = 64\n",
    "#dimensions for the Kernel: nxn\n",
    "kernel_size = 2\n",
    "#dimensions for the pooling operation: mxm\n",
    "max_pooling_size = 2\n",
    "\n",
    "\n",
    "model = convolution_pooling(channels_first_layer, \n",
    "                            kernel_size, \n",
    "                            max_pooling_size, \n",
    "                            channels_other_layer)"
   ]
  },
  {
   "cell_type": "code",
   "execution_count": 15,
   "id": "2bd86cd0",
   "metadata": {},
   "outputs": [],
   "source": [
    "channels_last_layer = 64\n",
    "output_layer = 10\n",
    "\n",
    "total_model = mlp(model, channels_last_layer, output_layer)"
   ]
  },
  {
   "cell_type": "code",
   "execution_count": 16,
   "id": "2b5d752c",
   "metadata": {},
   "outputs": [],
   "source": [
    "compile_model = compile(total_model)"
   ]
  },
  {
   "cell_type": "code",
   "execution_count": 17,
   "id": "833817ce",
   "metadata": {},
   "outputs": [
    {
     "name": "stdout",
     "output_type": "stream",
     "text": [
      "Epoch 1/12\n",
      "1563/1563 [==============================] - 34s 21ms/step - loss: 1.4750 - accuracy: 0.4682 - val_loss: 1.2095 - val_accuracy: 0.5693\n",
      "Epoch 2/12\n",
      "1563/1563 [==============================] - 32s 20ms/step - loss: 1.1217 - accuracy: 0.6029 - val_loss: 1.0452 - val_accuracy: 0.6256\n",
      "Epoch 3/12\n",
      "1563/1563 [==============================] - 32s 20ms/step - loss: 0.9732 - accuracy: 0.6595 - val_loss: 0.9399 - val_accuracy: 0.6660\n",
      "Epoch 4/12\n",
      "1563/1563 [==============================] - 32s 20ms/step - loss: 0.8793 - accuracy: 0.6920 - val_loss: 0.9071 - val_accuracy: 0.6856\n",
      "Epoch 5/12\n",
      "1563/1563 [==============================] - 32s 20ms/step - loss: 0.8097 - accuracy: 0.7171 - val_loss: 0.8864 - val_accuracy: 0.6978\n",
      "Epoch 6/12\n",
      "1563/1563 [==============================] - 32s 20ms/step - loss: 0.7509 - accuracy: 0.7395 - val_loss: 0.9815 - val_accuracy: 0.6626\n",
      "Epoch 7/12\n",
      "1563/1563 [==============================] - 32s 20ms/step - loss: 0.6975 - accuracy: 0.7574 - val_loss: 0.8579 - val_accuracy: 0.7091\n",
      "Epoch 8/12\n",
      "1563/1563 [==============================] - 32s 20ms/step - loss: 0.6518 - accuracy: 0.7715 - val_loss: 0.8157 - val_accuracy: 0.7196\n",
      "Epoch 9/12\n",
      "1563/1563 [==============================] - 32s 20ms/step - loss: 0.6148 - accuracy: 0.7852 - val_loss: 0.8494 - val_accuracy: 0.7128\n",
      "Epoch 10/12\n",
      "1563/1563 [==============================] - 31s 20ms/step - loss: 0.5704 - accuracy: 0.8029 - val_loss: 0.8384 - val_accuracy: 0.7195\n",
      "Epoch 11/12\n",
      "1563/1563 [==============================] - 32s 20ms/step - loss: 0.5344 - accuracy: 0.8135 - val_loss: 0.8654 - val_accuracy: 0.7225\n",
      "Epoch 12/12\n",
      "1563/1563 [==============================] - 32s 20ms/step - loss: 0.4925 - accuracy: 0.8278 - val_loss: 0.9225 - val_accuracy: 0.7112\n"
     ]
    }
   ],
   "source": [
    "epochs = 12\n",
    "\n",
    "model_fitted = fit_model(compile_model, train_images, train_labels, test_images, test_labels, epochs)"
   ]
  },
  {
   "cell_type": "code",
   "execution_count": 18,
   "id": "fa355f29",
   "metadata": {},
   "outputs": [
    {
     "data": {
      "image/png": "[encoded data removed]",
      "text/plain": [
       "<Figure size 432x288 with 1 Axes>"
      ]
     },
     "metadata": {
      "needs_background": "light"
     },
     "output_type": "display_data"
    },
    {
     "name": "stdout",
     "output_type": "stream",
     "text": [
      "313/313 - 2s - loss: 0.9225 - accuracy: 0.7112 - 2s/epoch - 5ms/step\n"
     ]
    }
   ],
   "source": [
    "evaluate_model(compile_model, model_fitted, test_images, test_labels)"
   ]
  },
  {
   "cell_type": "code",
   "execution_count": 22,
   "id": "1d6b1e77",
   "metadata": {},
   "outputs": [
    {
     "name": "stdout",
     "output_type": "stream",
     "text": [
      "automobile\n"
     ]
    }
   ],
   "source": [
    "image = 'car.jpg'\n",
    "\n",
    "#We considering dimensions for 32 x 32\n",
    "image_dimension = width\n",
    "image_channels = channels\n",
    "\n",
    "class_image = predict_image(image, image_dimension, image_channels, compile_model)\n",
    "print(class_image)"
   ]
  },
  {
   "cell_type": "code",
   "execution_count": null,
   "id": "12e1e72f",
   "metadata": {},
   "outputs": [],
   "source": []
  }
 ],
 "metadata": {
  "kernelspec": {
   "display_name": "Python 3 (ipykernel)",
   "language": "python",
   "name": "python3"
  },
  "language_info": {
   "codemirror_mode": {
    "name": "ipython",
    "version": 3
   },
   "file_extension": ".py",
   "mimetype": "text/x-python",
   "name": "python",
   "nbconvert_exporter": "python",
   "pygments_lexer": "ipython3",
   "version": "3.9.7"
  }
 },
 "nbformat": 4,
 "nbformat_minor": 5
}
